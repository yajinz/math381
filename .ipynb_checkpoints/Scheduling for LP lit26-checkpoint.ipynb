{
 "cells": [
  {
   "cell_type": "code",
   "execution_count": 2,
   "metadata": {},
   "outputs": [],
   "source": [
    "# Variable\n",
    "W_max = 19.5;\n",
    "W_min = 10;"
   ]
  },
  {
   "cell_type": "code",
   "execution_count": 3,
   "metadata": {},
   "outputs": [],
   "source": [
    "import xlrd\n",
    "import xlwt\n",
    "import os\n",
    "# parameter schedule end Index\n",
    "Schedule_endIndex = 213\n",
    "\n",
    "loc = (\"schedule.xls\")\n",
    "wb = xlrd.open_workbook(loc)\n",
    "sheet = wb.sheet_by_index(0)\n",
    "x = list(range(1, Schedule_endIndex))"
   ]
  },
  {
   "cell_type": "code",
   "execution_count": 4,
   "metadata": {},
   "outputs": [],
   "source": [
    "#initial data\n",
    "startTime = []\n",
    "endTime = []\n",
    "shiftslength = []\n",
    "days = []\n",
    "shiftstations = []\n",
    "station = []\n",
    "\n",
    "# get shift data\n",
    "for i in x:\n",
    "    startTime.append(sheet.cell_value(i,1))\n",
    "    endTime.append(sheet.cell_value(i,2))\n",
    "    shiftslength.append(sheet.cell_value(i,3))\n",
    "    days.append(sheet.cell_value(i,4))\n",
    "    shiftstations.append(sheet.cell_value(i,5))\n",
    "    if sheet.cell_value(i,5) not in station:\n",
    "        station.append(sheet.cell_value(i,5))\n",
    "shifts = list(range(0, Schedule_endIndex-1))"
   ]
  },
  {
   "cell_type": "code",
   "execution_count": 5,
   "metadata": {},
   "outputs": [],
   "source": [
    "# get all students availability and prefer time\n",
    "studentName = []\n",
    "p = []\n",
    "#allAvailability[i]:availability for student i\n",
    "#allAvailability[i][j]:availability for student i on day j\n",
    "#allAvailability[i][j][k]:availability for student i on day j at time k\n",
    "allAvailability = []\n",
    "dirs = os.listdir(\"studentAvailability\")\n",
    "for file in dirs:\n",
    "    if (not file.startswith(\"~$\")) and (not file.startswith(\".\")) and (not file.startswith(\"_\")):\n",
    "        studentName.append(file.split(\".\")[0])\n",
    "        # get each student availability\n",
    "        wbp=xlrd.open_workbook(\"studentAvailability/\"+file)\n",
    "        sheetperson = wbp.sheet_by_index(0)\n",
    "        # get prefer working time\n",
    "        p.append(sheetperson.cell_value(1,8))\n",
    "        #\n",
    "        EndTime = 61;\n",
    "        time_slot = list(range(1, EndTime))\n",
    "        stuAvailability = []\n",
    "        for j in list(range(1,8)):\n",
    "            day_slot = []\n",
    "            for i in time_slot:\n",
    "                day_slot.append(sheetperson.cell_value(i,j))\n",
    "            stuAvailability.append(day_slot)\n",
    "        allAvailability.append(stuAvailability)"
   ]
  },
  {
   "cell_type": "code",
   "execution_count": 6,
   "metadata": {},
   "outputs": [],
   "source": [
    "# get whether shift is available for each student\n",
    "a=[]\n",
    "for i in list(range(0,len(studentName))):\n",
    "    stuShiftAvailability = []\n",
    "    stuAvailability = allAvailability[i]\n",
    "    #loop all shifts\n",
    "    for j in shifts:\n",
    "        shiftstartTime = startTime[j]\n",
    "        shiftLength = shiftslength[j]\n",
    "        day = int(days[j]-1)\n",
    "        startTimeSlot = int((shiftstartTime-7)/0.25)\n",
    "        lengthSlot = int(shiftLength/0.25)\n",
    "        # get student availability for the specific day\n",
    "        stuDayAvailability = stuAvailability[day]\n",
    "        # loop one single shift\n",
    "        available = 1;\n",
    "        for k in list(range(startTimeSlot,startTimeSlot+lengthSlot)):\n",
    "            if(stuDayAvailability[k] ==0):\n",
    "                available=0\n",
    "                break\n",
    "        stuShiftAvailability.append(available)\n",
    "    a.append(stuShiftAvailability)           "
   ]
  },
  {
   "cell_type": "code",
   "execution_count": 7,
   "metadata": {},
   "outputs": [
    {
     "name": "stdout",
     "output_type": "stream",
     "text": [
      "Academic license - for non-commercial use only\n"
     ]
    }
   ],
   "source": [
    "# model building\n",
    "from gurobipy import *\n",
    "import statistics\n",
    "m = Model()"
   ]
  },
  {
   "cell_type": "code",
   "execution_count": 8,
   "metadata": {},
   "outputs": [],
   "source": [
    "# initial variable\n",
    "#x[i][j] assign student i to shift j\n",
    "x=[]\n",
    "for i in list(range(0,len(studentName))):\n",
    "    y = [None]*len(shifts)\n",
    "    x.append(y)\n",
    "for i in list(range(0,len(studentName))):\n",
    "    eachstuAvailability = a[i]\n",
    "    for j in range(len(eachstuAvailability)):      \n",
    "        if(eachstuAvailability[j]==0):\n",
    "            x[i][j]=0;\n",
    "\n",
    "for i in list(range(0,len(studentName))):\n",
    "    for j in shifts:\n",
    "        if x[i][j]!=0:\n",
    "            x[i][j] = m.addVar(vtype=GRB.BINARY)\n",
    "m.update()"
   ]
  },
  {
   "cell_type": "code",
   "execution_count": 9,
   "metadata": {},
   "outputs": [],
   "source": [
    "# add constrain\n",
    "totalTime = []\n",
    "for i in list(range(0,len(studentName))):\n",
    "    scheduleTime = 0\n",
    "    for j in shifts:\n",
    "        scheduleTime = scheduleTime+ x[i][j]*shiftslength[j]\n",
    "    totalTime.append(scheduleTime)\n",
    "    m.addConstr(totalTime[i]>=W_min)\n",
    "    m.addConstr(totalTime[i]<=W_max)\n",
    "\n",
    "eachShifts = []\n",
    "for j in shifts:\n",
    "    eachShift = 0\n",
    "    for i in list(range(0,len(studentName))):\n",
    "        eachShift = eachShift+x[i][j]\n",
    "    eachShifts.append(eachShift)\n",
    "    m.addConstr(eachShifts[j]<=1)"
   ]
  },
  {
   "cell_type": "code",
   "execution_count": 10,
   "metadata": {},
   "outputs": [
    {
     "name": "stdout",
     "output_type": "stream",
     "text": [
      "Optimize a model with 216 rows, 298 columns and 894 nonzeros\n",
      "Model has 22350 quadratic objective terms\n",
      "Variable types: 0 continuous, 298 integer (298 binary)\n",
      "Coefficient statistics:\n",
      "  Matrix range     [1e+00, 5e+00]\n",
      "  Objective range  [4e+01, 1e+02]\n",
      "  QObjective range [5e+00, 9e+01]\n",
      "  Bounds range     [1e+00, 1e+00]\n",
      "  RHS range        [1e+00, 2e+01]\n",
      "Found heuristic solution: objective 25.0000000\n",
      "Presolve removed 63 rows and 0 columns\n",
      "Presolve time: 0.03s\n",
      "Presolved: 153 rows, 298 columns, 894 nonzeros\n",
      "Presolved model has 22350 quadratic objective terms\n",
      "Variable types: 0 continuous, 298 integer (298 binary)\n",
      "\n",
      "Root relaxation: objective 0.000000e+00, 30 iterations, 0.01 seconds\n",
      "\n",
      "    Nodes    |    Current Node    |     Objective Bounds      |     Work\n",
      " Expl Unexpl |  Obj  Depth IntInf | Incumbent    BestBd   Gap | It/Node Time\n",
      "\n",
      "     0     0    0.00000    0    3   25.00000    0.00000   100%     -    0s\n",
      "H    0     0                       1.5625000    0.00000   100%     -    0s\n",
      "H    0     0                       0.5625000    0.00000   100%     -    0s\n",
      "H    0     0                       0.0000000    0.00000  0.00%     -    0s\n",
      "\n",
      "Explored 1 nodes (30 simplex iterations) in 0.15 seconds\n",
      "Thread count was 4 (of 4 available processors)\n",
      "\n",
      "Solution count 4: 0 0.5625 1.5625 25 \n",
      "\n",
      "Optimal solution found (tolerance 1.00e-04)\n",
      "Best objective 0.000000000000e+00, best bound 0.000000000000e+00, gap 0.0000%\n"
     ]
    }
   ],
   "source": [
    "# goal\n",
    "# F1\n",
    "F1 = 0\n",
    "for i in list(range(0,len(studentName))):\n",
    "    F1 = F1+(totalTime[i]-p[i])*(totalTime[i]-p[i])\n",
    "\n",
    "import numpy\n",
    "F2 = 0\n",
    "for i in list(range(0,len(studentName))):\n",
    "    countForEachSta = []\n",
    "    for j in shifts:\n",
    "        if x[i][j] == 1:\n",
    "            shiftStation = shiftstations[j]\n",
    "            if shiftStation not in countForEachSta:\n",
    "                countForEachSta.append((shiftStation,1))\n",
    "            else:\n",
    "                for index,stat in countForEachSta.iterrow:\n",
    "                    if stat[0]==shiftStation: \n",
    "                        temp=list(countForEachSta[i])\n",
    "                        temp[1]=temp[1]+1\n",
    "                        countForEachSta[i]=tuple(temp)\n",
    "                print(countForEachSta)\n",
    "    shiftCount = []\n",
    "    for count in countForEachSta:\n",
    "        shiftCount.append(count[1])\n",
    "    F2 = F2 + numpy.var(shiftCount)\n",
    "\n",
    "# Define the objective function\n",
    "ohm_1 = 1\n",
    "ohm_2 = 1\n",
    "m.setObjective(ohm_1*F1+ ohm_2*F2, GRB.MINIMIZE)\n",
    "m.optimize()"
   ]
  },
  {
   "cell_type": "code",
   "execution_count": 11,
   "metadata": {},
   "outputs": [],
   "source": [
    "def timeFormating(num):\n",
    "    n = str(num)\n",
    "    time = n.split(\".\")\n",
    "    if time[1]=='5':\n",
    "        time[1]='50' \n",
    "    min=str(int(time[1])*60/100).split(\".\")[0]\n",
    "    if min =='0':\n",
    "        min='00'\n",
    "    if int(time[0]) <12:\n",
    "        return time[0]+\":\"+min+\"am\"\n",
    "    elif int(time[0])==12:\n",
    "        return time[0]+\":\"+min+\"pm\"\n",
    "    elif int(time[0]) >12:\n",
    "        return str(int(time[0])-12)+\":\"+min+\"pm\"\n",
    "    \n",
    "def dayFormating(num):\n",
    "    if num==1:\n",
    "        return \"Mon\"\n",
    "    elif num ==2:\n",
    "        return \"Tue\"\n",
    "    elif num==3:\n",
    "        return \"Wed\"\n",
    "    elif num==4:\n",
    "        return \"Thu\"\n",
    "    elif num==5:\n",
    "        return \"Fri\"\n",
    "    elif num==6:\n",
    "        return \"Sat\"\n",
    "    elif num==7:\n",
    "        return \"Sun\""
   ]
  },
  {
   "cell_type": "code",
   "execution_count": 12,
   "metadata": {},
   "outputs": [
    {
     "ename": "FileNotFoundError",
     "evalue": "[Errno 2] No such file or directory: 'schedule/litianning.txt'",
     "output_type": "error",
     "traceback": [
      "\u001b[1;31m---------------------------------------------------------------------------\u001b[0m",
      "\u001b[1;31mFileNotFoundError\u001b[0m                         Traceback (most recent call last)",
      "\u001b[1;32m<ipython-input-12-fa6a0caa6e15>\u001b[0m in \u001b[0;36m<module>\u001b[1;34m()\u001b[0m\n\u001b[0;32m     11\u001b[0m \u001b[1;32mfor\u001b[0m \u001b[0mj\u001b[0m \u001b[1;32min\u001b[0m \u001b[0mrange\u001b[0m\u001b[1;33m(\u001b[0m\u001b[1;36m0\u001b[0m\u001b[1;33m,\u001b[0m\u001b[0mlen\u001b[0m\u001b[1;33m(\u001b[0m\u001b[0mstudentName\u001b[0m\u001b[1;33m)\u001b[0m\u001b[1;33m)\u001b[0m\u001b[1;33m:\u001b[0m\u001b[1;33m\u001b[0m\u001b[0m\n\u001b[0;32m     12\u001b[0m     \u001b[0msheet\u001b[0m\u001b[1;33m.\u001b[0m\u001b[0mwrite\u001b[0m\u001b[1;33m(\u001b[0m\u001b[1;36m0\u001b[0m\u001b[1;33m,\u001b[0m\u001b[1;36m3\u001b[0m\u001b[1;33m+\u001b[0m\u001b[0mj\u001b[0m\u001b[1;33m,\u001b[0m\u001b[0mstudentName\u001b[0m\u001b[1;33m[\u001b[0m\u001b[0mj\u001b[0m\u001b[1;33m]\u001b[0m\u001b[1;33m)\u001b[0m\u001b[1;33m\u001b[0m\u001b[0m\n\u001b[1;32m---> 13\u001b[1;33m     \u001b[0mf\u001b[0m \u001b[1;33m=\u001b[0m \u001b[0mopen\u001b[0m\u001b[1;33m(\u001b[0m\u001b[1;34m\"schedule/\"\u001b[0m\u001b[1;33m+\u001b[0m\u001b[0mstudentName\u001b[0m\u001b[1;33m[\u001b[0m\u001b[0mj\u001b[0m\u001b[1;33m]\u001b[0m\u001b[1;33m+\u001b[0m\u001b[1;34m\".txt\"\u001b[0m\u001b[1;33m,\u001b[0m \u001b[1;34m\"w\"\u001b[0m\u001b[1;33m)\u001b[0m\u001b[1;33m\u001b[0m\u001b[0m\n\u001b[0m\u001b[0;32m     14\u001b[0m     \u001b[0mf\u001b[0m\u001b[1;33m.\u001b[0m\u001b[0mwrite\u001b[0m\u001b[1;33m(\u001b[0m\u001b[0mstudentName\u001b[0m\u001b[1;33m[\u001b[0m\u001b[0mj\u001b[0m\u001b[1;33m]\u001b[0m\u001b[1;33m+\u001b[0m\u001b[1;34m\":\\n\"\u001b[0m\u001b[1;33m)\u001b[0m\u001b[1;33m\u001b[0m\u001b[0m\n\u001b[0;32m     15\u001b[0m     \u001b[1;32mfor\u001b[0m \u001b[0mi\u001b[0m \u001b[1;32min\u001b[0m \u001b[0mshifts\u001b[0m\u001b[1;33m:\u001b[0m\u001b[1;33m\u001b[0m\u001b[0m\n",
      "\u001b[1;31mFileNotFoundError\u001b[0m: [Errno 2] No such file or directory: 'schedule/litianning.txt'"
     ]
    }
   ],
   "source": [
    "# Write overall Schedule and schedule for each student\n",
    "workbook = xlwt.Workbook()\n",
    "sheet = workbook.add_sheet('schedule')\n",
    "sheet.write(0,0,\"Shift\")\n",
    "sheet.write(0,1,\"Time\")\n",
    "sheet.write(0,2,\"Station\")\n",
    "for k, value in enumerate(shifts):\n",
    "    sheet.write(int(k)+1, 0, k+1)\n",
    "    sheet.write(int(k)+1, 1, dayFormating(days[k])+\":\"+timeFormating(startTime[k])+\"-\"+timeFormating(endTime[k]))\n",
    "    sheet.write(int(k)+1, 2, shiftstations[k])\n",
    "for j in range(0,len(studentName)):\n",
    "    sheet.write(0,3+j,studentName[j])\n",
    "    f = open(\"schedule/\"+studentName[j]+\".txt\", \"w\")\n",
    "    f.write(studentName[j]+\":\\n\")\n",
    "    for i in shifts:\n",
    "        if (type(x[j][i]) != int) and (x[j][i].x==1) :\n",
    "            sheet.write(i+1,3+j,\"Assign\")\n",
    "            f.write(dayFormating(days[i])+\":\")\n",
    "            f.write(timeFormating(startTime[i])+\"-\"+timeFormating(endTime[i])+\", (\"+str(shiftstations[i])+\")\\n\")\n",
    "    f.close()\n",
    "workbook.save('assignSchedule.xls')"
   ]
  },
  {
   "cell_type": "code",
   "execution_count": 13,
   "metadata": {},
   "outputs": [
    {
     "name": "stdout",
     "output_type": "stream",
     "text": [
      "0.0\n"
     ]
    }
   ],
   "source": [
    "# total difference between prefer time and schedule time\n",
    "totalTime = []\n",
    "for i in list(range(0,len(studentName))):\n",
    "    scheduleTime = 0\n",
    "    for j in shifts:\n",
    "        if (type(x[i][j]) != int) and (x[i][j].x==1) :\n",
    "            scheduleTime = scheduleTime+ x[i][j].x*shiftslength[j]\n",
    "    totalTime.append(scheduleTime)\n",
    "totalDifference = 0\n",
    "for i in list(range(0,len(studentName))):\n",
    "    totalDifference = totalDifference+(totalTime[i]-p[i])*(totalTime[i]-p[i])\n",
    "print(totalDifference)"
   ]
  },
  {
   "cell_type": "code",
   "execution_count": null,
   "metadata": {},
   "outputs": [],
   "source": []
  },
  {
   "cell_type": "code",
   "execution_count": null,
   "metadata": {},
   "outputs": [],
   "source": []
  }
 ],
 "metadata": {
  "kernelspec": {
   "display_name": "Python 3",
   "language": "python",
   "name": "python3"
  },
  "language_info": {
   "codemirror_mode": {
    "name": "ipython",
    "version": 3
   },
   "file_extension": ".py",
   "mimetype": "text/x-python",
   "name": "python",
   "nbconvert_exporter": "python",
   "pygments_lexer": "ipython3",
   "version": "3.6.5"
  }
 },
 "nbformat": 4,
 "nbformat_minor": 2
}
